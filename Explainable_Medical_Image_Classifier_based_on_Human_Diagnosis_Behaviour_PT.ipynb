{
  "nbformat": 4,
  "nbformat_minor": 0,
  "metadata": {
    "kernelspec": {
      "display_name": "Python 3",
      "language": "python",
      "name": "python3"
    },
    "language_info": {
      "codemirror_mode": {
        "name": "ipython",
        "version": 3
      },
      "file_extension": ".py",
      "mimetype": "text/x-python",
      "name": "python",
      "nbconvert_exporter": "python",
      "pygments_lexer": "ipython3",
      "version": "3.8.2"
    },
    "colab": {
      "name": "Explainable_Medical_Image_Classifier_based_on_Human_Diagnosis_Behaviour_PT.ipynb",
      "provenance": [],
      "collapsed_sections": []
    },
    "accelerator": "GPU"
  },
  "cells": [
    {
      "cell_type": "markdown",
      "metadata": {
        "id": "w2QdXTBeOXET"
      },
      "source": [
        "<html>\n",
        "<body>\n",
        "<h1>Explainable_Medical_Image_Classifier_based_on_Human_Diagnosis_Behaviour_PT</h1>\n",
        "<h4>Author: Anshu Garg </h4>\n",
        "<h4>Matriculation Number: 414686</h4>\n",
        "</body>\n",
        "</html>"
      ]
    },
    {
      "cell_type": "code",
      "metadata": {
        "id": "WEc0iGXwB6MZ"
      },
      "source": [
        "import torch \n",
        "import torchvision\n",
        "import torchvision.transforms as transforms\n",
        "import matplotlib.pyplot as plt"
      ],
      "execution_count": 14,
      "outputs": []
    },
    {
      "cell_type": "code",
      "metadata": {
        "id": "tr4vnldGB6Mq"
      },
      "source": [
        "transform = transforms.Compose([\n",
        "    transforms.Resize(256),\n",
        "    transforms.CenterCrop(224),\n",
        "    transforms.ToTensor(),\n",
        "    transforms.Normalize(mean=[0.40, 0.45, 0.45], std=[0.21, 0.23, 0.22]),\n",
        "])"
      ],
      "execution_count": 15,
      "outputs": []
    },
    {
      "cell_type": "code",
      "metadata": {
        "id": "eq_7o8USB6M5"
      },
      "source": [
        "device=torch.device('cuda')"
      ],
      "execution_count": 16,
      "outputs": []
    },
    {
      "cell_type": "code",
      "metadata": {
        "id": "fdBnoSpIB6NG",
        "outputId": "b9e55e9a-3894-4b32-f819-4a07956c416d",
        "colab": {
          "base_uri": "https://localhost:8080/",
          "height": 50
        }
      },
      "source": [
        "#Downloading training data\n",
        "train_data = torchvision.datasets.CIFAR10(root='./data', train=True, download=True, transform=transform)\n",
        "trainloader = torch.utils.data.DataLoader(train_data, batch_size=4, shuffle=True, num_workers=2)\n",
        "\n",
        "#Downloading test data\n",
        "test_data = torchvision.datasets.CIFAR10(root='./data', train=False, download=True, transform=transform)\n",
        "testloader = torch.utils.data.DataLoader(test_data, batch_size=4, shuffle=False, num_workers=2)\n",
        "\n",
        "#Class labels\n",
        "classes = ('plane', 'Car', 'Bird', 'Cat', 'Deer', 'Dog', 'Frog', 'Horse', 'Ship', 'Truck')"
      ],
      "execution_count": 17,
      "outputs": [
        {
          "output_type": "stream",
          "text": [
            "Files already downloaded and verified\n",
            "Files already downloaded and verified\n"
          ],
          "name": "stdout"
        }
      ]
    },
    {
      "cell_type": "code",
      "metadata": {
        "id": "51lARMBDB6NQ",
        "outputId": "ec2960b6-af84-44fe-a896-12ebb6128815",
        "colab": {
          "base_uri": "https://localhost:8080/",
          "height": 487
        }
      },
      "source": [
        "#Now using the AlexNet\n",
        "AlexNet_model = torch.hub.load('pytorch/vision:v0.6.0', 'alexnet', pretrained=True)\n",
        "\n",
        "#Model description\n",
        "AlexNet_model.eval()"
      ],
      "execution_count": 18,
      "outputs": [
        {
          "output_type": "stream",
          "text": [
            "Using cache found in /root/.cache/torch/hub/pytorch_vision_v0.6.0\n"
          ],
          "name": "stderr"
        },
        {
          "output_type": "execute_result",
          "data": {
            "text/plain": [
              "AlexNet(\n",
              "  (features): Sequential(\n",
              "    (0): Conv2d(3, 64, kernel_size=(11, 11), stride=(4, 4), padding=(2, 2))\n",
              "    (1): ReLU(inplace=True)\n",
              "    (2): MaxPool2d(kernel_size=3, stride=2, padding=0, dilation=1, ceil_mode=False)\n",
              "    (3): Conv2d(64, 192, kernel_size=(5, 5), stride=(1, 1), padding=(2, 2))\n",
              "    (4): ReLU(inplace=True)\n",
              "    (5): MaxPool2d(kernel_size=3, stride=2, padding=0, dilation=1, ceil_mode=False)\n",
              "    (6): Conv2d(192, 384, kernel_size=(3, 3), stride=(1, 1), padding=(1, 1))\n",
              "    (7): ReLU(inplace=True)\n",
              "    (8): Conv2d(384, 256, kernel_size=(3, 3), stride=(1, 1), padding=(1, 1))\n",
              "    (9): ReLU(inplace=True)\n",
              "    (10): Conv2d(256, 256, kernel_size=(3, 3), stride=(1, 1), padding=(1, 1))\n",
              "    (11): ReLU(inplace=True)\n",
              "    (12): MaxPool2d(kernel_size=3, stride=2, padding=0, dilation=1, ceil_mode=False)\n",
              "  )\n",
              "  (avgpool): AdaptiveAvgPool2d(output_size=(6, 6))\n",
              "  (classifier): Sequential(\n",
              "    (0): Dropout(p=0.5, inplace=False)\n",
              "    (1): Linear(in_features=9216, out_features=4096, bias=True)\n",
              "    (2): ReLU(inplace=True)\n",
              "    (3): Dropout(p=0.5, inplace=False)\n",
              "    (4): Linear(in_features=4096, out_features=4096, bias=True)\n",
              "    (5): ReLU(inplace=True)\n",
              "    (6): Linear(in_features=4096, out_features=1000, bias=True)\n",
              "  )\n",
              ")"
            ]
          },
          "metadata": {
            "tags": []
          },
          "execution_count": 18
        }
      ]
    },
    {
      "cell_type": "code",
      "metadata": {
        "id": "AxriJWtuB6Nd"
      },
      "source": [
        "#Updating the second classifier\n",
        "AlexNet_model.classifier[4] = torch.nn.Linear(4096,1024)\n",
        "\n",
        "#Updating the third and the last classifier that is the output layer of the network. Make sure to have 10 output nodes if we are going to get 10 class labels through our model.\n",
        "AlexNet_model.classifier[6] = torch.nn.Linear(1024,10)"
      ],
      "execution_count": 19,
      "outputs": []
    },
    {
      "cell_type": "code",
      "metadata": {
        "id": "wMJfm8RKB6Ns",
        "outputId": "0cc21eaa-f950-443a-ba56-e5286627e8fb",
        "colab": {
          "base_uri": "https://localhost:8080/",
          "height": 470
        }
      },
      "source": [
        "AlexNet_model.eval()\n",
        "AlexNet_model.to(device)"
      ],
      "execution_count": 20,
      "outputs": [
        {
          "output_type": "execute_result",
          "data": {
            "text/plain": [
              "AlexNet(\n",
              "  (features): Sequential(\n",
              "    (0): Conv2d(3, 64, kernel_size=(11, 11), stride=(4, 4), padding=(2, 2))\n",
              "    (1): ReLU(inplace=True)\n",
              "    (2): MaxPool2d(kernel_size=3, stride=2, padding=0, dilation=1, ceil_mode=False)\n",
              "    (3): Conv2d(64, 192, kernel_size=(5, 5), stride=(1, 1), padding=(2, 2))\n",
              "    (4): ReLU(inplace=True)\n",
              "    (5): MaxPool2d(kernel_size=3, stride=2, padding=0, dilation=1, ceil_mode=False)\n",
              "    (6): Conv2d(192, 384, kernel_size=(3, 3), stride=(1, 1), padding=(1, 1))\n",
              "    (7): ReLU(inplace=True)\n",
              "    (8): Conv2d(384, 256, kernel_size=(3, 3), stride=(1, 1), padding=(1, 1))\n",
              "    (9): ReLU(inplace=True)\n",
              "    (10): Conv2d(256, 256, kernel_size=(3, 3), stride=(1, 1), padding=(1, 1))\n",
              "    (11): ReLU(inplace=True)\n",
              "    (12): MaxPool2d(kernel_size=3, stride=2, padding=0, dilation=1, ceil_mode=False)\n",
              "  )\n",
              "  (avgpool): AdaptiveAvgPool2d(output_size=(6, 6))\n",
              "  (classifier): Sequential(\n",
              "    (0): Dropout(p=0.5, inplace=False)\n",
              "    (1): Linear(in_features=9216, out_features=4096, bias=True)\n",
              "    (2): ReLU(inplace=True)\n",
              "    (3): Dropout(p=0.5, inplace=False)\n",
              "    (4): Linear(in_features=4096, out_features=1024, bias=True)\n",
              "    (5): ReLU(inplace=True)\n",
              "    (6): Linear(in_features=1024, out_features=10, bias=True)\n",
              "  )\n",
              ")"
            ]
          },
          "metadata": {
            "tags": []
          },
          "execution_count": 20
        }
      ]
    },
    {
      "cell_type": "code",
      "metadata": {
        "id": "No8g0M5uB6N3"
      },
      "source": [
        "criterion = torch.nn.CrossEntropyLoss()\n",
        "\n",
        "#Optimizer(SGD)\n",
        "optimizer = torch.optim.SGD(AlexNet_model.parameters(), lr=0.001, momentum=0.9)"
      ],
      "execution_count": 12,
      "outputs": []
    },
    {
      "cell_type": "code",
      "metadata": {
        "id": "sGkOJFVGB6OB"
      },
      "source": [
        "for epoch in range(10):  # loop over the dataset multiple times\n",
        "    running_loss = 0.0\n",
        "    for i, data in enumerate(trainloader, 0):\n",
        "        # get the inputs; data is a list of [inputs, labels]\n",
        "        inputs, labels = data[0].to(device), data[1].to(device)\n",
        "\n",
        "        # zero the parameter gradients\n",
        "        optimizer.zero_grad()\n",
        "\n",
        "        # forward + backward + optimize\n",
        "        output = AlexNet_model(inputs)\n",
        "        loss = criterion(output, labels)\n",
        "        loss.backward()\n",
        "        optimizer.step()\n",
        "\n",
        "        # print statistics\n",
        "        running_loss += loss.item()\n",
        "        if i % 2000 == 1999:    # print every 2000 mini-batches\n",
        "            print('[%d, %5d] loss: %.3f' %\n",
        "                  (epoch + 1, i + 1, running_loss / 2000))\n",
        "            running_loss = 0.0\n",
        "print('Finished Training of AlexNet')"
      ],
      "execution_count": null,
      "outputs": []
    },
    {
      "cell_type": "code",
      "metadata": {
        "id": "E4kBP1fAPKMD"
      },
      "source": [
        "torch.save(AlexNet_model.state_dict(),'./data1')"
      ],
      "execution_count": 8,
      "outputs": []
    },
    {
      "cell_type": "code",
      "metadata": {
        "id": "RPwGtui7B6OL",
        "outputId": "b79bea08-acf5-4152-e30b-833fedfd7008",
        "colab": {
          "base_uri": "https://localhost:8080/",
          "height": 34
        }
      },
      "source": [
        "#Testing Accuracy\n",
        "correct = 0\n",
        "total = 0\n",
        "with torch.no_grad():\n",
        "    for data in testloader:\n",
        "        images, labels = data[0].to(device), data[1].to(device)\n",
        "        outputs = AlexNet_model(images)\n",
        "        _, predicted = torch.max(outputs.data, 1)\n",
        "        total += labels.size(0)\n",
        "        correct += (predicted == labels).sum().item()\n",
        "\n",
        "print('Accuracy of the network on the 10000 test images: %d %%' % (\n",
        "    100 * correct / total))"
      ],
      "execution_count": 22,
      "outputs": [
        {
          "output_type": "stream",
          "text": [
            "Accuracy of the network on the 10000 test images: 83 %\n"
          ],
          "name": "stdout"
        }
      ]
    },
    {
      "cell_type": "code",
      "metadata": {
        "id": "2rwfaJS7B6OU"
      },
      "source": [
        "AlexNet_model.load_state_dict(torch.load('./data1'))\n",
        "# Splitting the alexnet model\n",
        "#1st model\n",
        "module_1=torch.nn.Sequential(*list(AlexNet_model.features.children())[:-3])\n",
        "module_2=torch.nn.Sequential(*list(AlexNet_model.features.children())[:-1])"
      ],
      "execution_count": 21,
      "outputs": []
    },
    {
      "cell_type": "code",
      "metadata": {
        "id": "b1fEpIKoB6Oe",
        "outputId": "a8846c01-5a14-4b8c-ce2c-5cef2bd9a82d",
        "colab": {
          "base_uri": "https://localhost:8080/",
          "height": 252
        }
      },
      "source": [
        "module_1.to(device)\n",
        "module_2.to(device)"
      ],
      "execution_count": 23,
      "outputs": [
        {
          "output_type": "execute_result",
          "data": {
            "text/plain": [
              "Sequential(\n",
              "  (0): Conv2d(3, 64, kernel_size=(11, 11), stride=(4, 4), padding=(2, 2))\n",
              "  (1): ReLU(inplace=True)\n",
              "  (2): MaxPool2d(kernel_size=3, stride=2, padding=0, dilation=1, ceil_mode=False)\n",
              "  (3): Conv2d(64, 192, kernel_size=(5, 5), stride=(1, 1), padding=(2, 2))\n",
              "  (4): ReLU(inplace=True)\n",
              "  (5): MaxPool2d(kernel_size=3, stride=2, padding=0, dilation=1, ceil_mode=False)\n",
              "  (6): Conv2d(192, 384, kernel_size=(3, 3), stride=(1, 1), padding=(1, 1))\n",
              "  (7): ReLU(inplace=True)\n",
              "  (8): Conv2d(384, 256, kernel_size=(3, 3), stride=(1, 1), padding=(1, 1))\n",
              "  (9): ReLU(inplace=True)\n",
              "  (10): Conv2d(256, 256, kernel_size=(3, 3), stride=(1, 1), padding=(1, 1))\n",
              "  (11): ReLU(inplace=True)\n",
              ")"
            ]
          },
          "metadata": {
            "tags": []
          },
          "execution_count": 23
        }
      ]
    },
    {
      "cell_type": "code",
      "metadata": {
        "id": "4IGmXVgiB6On"
      },
      "source": [
        "from sklearn.svm import SVC\n",
        "from sklearn import svm\n",
        "import numpy as np\n",
        "from sklearn.multiclass import OneVsRestClassifier\n",
        "from sklearn.metrics import accuracy_score, confusion_matrix"
      ],
      "execution_count": 43,
      "outputs": []
    },
    {
      "cell_type": "code",
      "metadata": {
        "id": "bSwPOnOhB6Ov",
        "outputId": "110201cd-e4f1-45ab-f6d1-cddbb4b5f4d8",
        "colab": {
          "base_uri": "https://localhost:8080/",
          "height": 84
        }
      },
      "source": [
        "print(\"train_data.data\",train_data.data.shape)\n",
        "train_data_numpy=torch.from_numpy(train_data.data)\n",
        "train_DT = train_data_numpy.permute(0, 3, 1, 2)\n",
        "print(\"train_data_numpy\",train_data_numpy.shape)\n",
        "\n",
        "train_final=train_DT.float().to(device)\n",
        "print(train_DT.shape)\n",
        "\n",
        "test_input=torch.from_numpy(test_data.data)\n",
        "test_DT = test_input.permute(0, 3, 1, 2)\n",
        "test_final=test_DT.float().to(device)\n",
        "print(\"test_DT\",test_DT.shape)"
      ],
      "execution_count": 44,
      "outputs": [
        {
          "output_type": "stream",
          "text": [
            "train_data.data (50000, 32, 32, 3)\n",
            "train_data_numpy torch.Size([50000, 32, 32, 3])\n",
            "torch.Size([50000, 3, 32, 32])\n",
            "test_DT torch.Size([10000, 3, 32, 32])\n"
          ],
          "name": "stdout"
        }
      ]
    },
    {
      "cell_type": "code",
      "metadata": {
        "id": "zP09NtA-B6O7"
      },
      "source": [
        "output_1=module_1(train_final)   #50000, 256, 1, 1\n",
        "output_2=module_2(train_final)   #50000, 256, 1, 1"
      ],
      "execution_count": 45,
      "outputs": []
    },
    {
      "cell_type": "code",
      "metadata": {
        "id": "7uC-kbmVB6PD"
      },
      "source": [
        "output_1=output_1.cpu().detach().numpy()\n",
        "output_2=output_2.cpu().detach().numpy()"
      ],
      "execution_count": 46,
      "outputs": []
    },
    {
      "cell_type": "code",
      "metadata": {
        "id": "pN8E9uSEB6PN",
        "outputId": "69693bbc-9747-47b3-f6be-e31a158051cb",
        "colab": {
          "base_uri": "https://localhost:8080/",
          "height": 67
        }
      },
      "source": [
        "final_out_1=output_1.reshape(output_1.shape[0], output_1.shape[1]*output_1.shape[2]*output_1.shape[3])\n",
        "final_out_2=output_2.reshape(output_2.shape[0], output_2.shape[1]*output_2.shape[2]*output_2.shape[3])\n",
        "print(final_out_1.shape)\n",
        "print(final_out_2.shape)\n",
        "\n",
        "labels_array=np.array(train_data.targets)\n",
        "print(labels_array.flatten().shape)"
      ],
      "execution_count": 47,
      "outputs": [
        {
          "output_type": "stream",
          "text": [
            "(50000, 256)\n",
            "(50000, 256)\n",
            "(50000,)\n"
          ],
          "name": "stdout"
        }
      ]
    },
    {
      "cell_type": "code",
      "metadata": {
        "id": "-4MJdPvwxv9Y",
        "outputId": "20ed865e-fe9b-4d4e-cff2-872d304cdc59",
        "colab": {
          "base_uri": "https://localhost:8080/",
          "height": 138
        }
      },
      "source": [
        "#train SVM 1\n",
        "svm1 = svm.LinearSVC()\n",
        "svm1.fit(final_out_1, labels_array)"
      ],
      "execution_count": 48,
      "outputs": [
        {
          "output_type": "stream",
          "text": [
            "/usr/local/lib/python3.6/dist-packages/sklearn/svm/_base.py:947: ConvergenceWarning: Liblinear failed to converge, increase the number of iterations.\n",
            "  \"the number of iterations.\", ConvergenceWarning)\n"
          ],
          "name": "stderr"
        },
        {
          "output_type": "execute_result",
          "data": {
            "text/plain": [
              "LinearSVC(C=1.0, class_weight=None, dual=True, fit_intercept=True,\n",
              "          intercept_scaling=1, loss='squared_hinge', max_iter=1000,\n",
              "          multi_class='ovr', penalty='l2', random_state=None, tol=0.0001,\n",
              "          verbose=0)"
            ]
          },
          "metadata": {
            "tags": []
          },
          "execution_count": 48
        }
      ]
    },
    {
      "cell_type": "code",
      "metadata": {
        "id": "k698brxpicnx",
        "outputId": "0670171c-874b-42be-b4bb-0e15d4bb4160",
        "colab": {
          "base_uri": "https://localhost:8080/",
          "height": 138
        }
      },
      "source": [
        "#train SVM 2\n",
        "svm2 = svm.LinearSVC()\n",
        "svm2.fit(final_out_2, labels_array)"
      ],
      "execution_count": 49,
      "outputs": [
        {
          "output_type": "stream",
          "text": [
            "/usr/local/lib/python3.6/dist-packages/sklearn/svm/_base.py:947: ConvergenceWarning: Liblinear failed to converge, increase the number of iterations.\n",
            "  \"the number of iterations.\", ConvergenceWarning)\n"
          ],
          "name": "stderr"
        },
        {
          "output_type": "execute_result",
          "data": {
            "text/plain": [
              "LinearSVC(C=1.0, class_weight=None, dual=True, fit_intercept=True,\n",
              "          intercept_scaling=1, loss='squared_hinge', max_iter=1000,\n",
              "          multi_class='ovr', penalty='l2', random_state=None, tol=0.0001,\n",
              "          verbose=0)"
            ]
          },
          "metadata": {
            "tags": []
          },
          "execution_count": 49
        }
      ]
    },
    {
      "cell_type": "code",
      "metadata": {
        "id": "6gv5EtYENG9A"
      },
      "source": [
        "#Find intermediate output of Alexnet architecture\n",
        "test_output_1=module_1(test_final)\n",
        "test_output_2=module_2(test_final)"
      ],
      "execution_count": 50,
      "outputs": []
    },
    {
      "cell_type": "code",
      "metadata": {
        "id": "EuStfGUMRLtz"
      },
      "source": [
        "test_output_1=test_output_1.cpu().detach().numpy()\n",
        "test_output_2=test_output_2.cpu().detach().numpy()\n",
        "\n",
        "test_final_out_1=test_output_1.reshape(test_output_1.shape[0], test_output_1.shape[1]*test_output_1.shape[2]*test_output_1.shape[3])\n",
        "test_final_out_2=test_output_2.reshape(test_output_2.shape[0], test_output_2.shape[1]*test_output_2.shape[2]*test_output_2.shape[3])"
      ],
      "execution_count": 51,
      "outputs": []
    },
    {
      "cell_type": "code",
      "metadata": {
        "id": "SbmFd_qihE09"
      },
      "source": [
        "#predicting first SVM\n",
        "svm_test_pred = svm1.predict(test_final_out_1) \n",
        "\n",
        "#predicting second SVM\n",
        "svm_test_pred_2 = svm2.predict(test_final_out_2) "
      ],
      "execution_count": 52,
      "outputs": []
    },
    {
      "cell_type": "code",
      "metadata": {
        "id": "vKh_pElUgpyy",
        "outputId": "ea1efbf1-2b3f-4d85-a759-473554c41bae",
        "colab": {
          "base_uri": "https://localhost:8080/",
          "height": 390
        }
      },
      "source": [
        "from sklearn.metrics import confusion_matrix,classification_report\n",
        "test_out = np.array(test_data.targets)\n",
        "accuracy = svm1.score(test_final_out_1, test_out)\n",
        "print(\"Accuracy of SVM1 - \", accuracy)\n",
        "print(\"Classification Report for SVM1\")\n",
        "cls_rpt = classification_report(test_out, svm_test_pred) \n",
        "print(cls_rpt)"
      ],
      "execution_count": 53,
      "outputs": [
        {
          "output_type": "stream",
          "text": [
            "Accuracy of SVM1 -  0.1223\n",
            "Classification Report for SVM1\n",
            "              precision    recall  f1-score   support\n",
            "\n",
            "           0       0.65      0.15      0.24      1000\n",
            "           1       0.75      0.00      0.01      1000\n",
            "           2       0.00      0.00      0.00      1000\n",
            "           3       0.00      0.00      0.00      1000\n",
            "           4       0.10      0.99      0.19      1000\n",
            "           5       0.00      0.00      0.00      1000\n",
            "           6       0.35      0.02      0.03      1000\n",
            "           7       0.00      0.00      0.00      1000\n",
            "           8       0.77      0.06      0.11      1000\n",
            "           9       0.75      0.00      0.01      1000\n",
            "\n",
            "    accuracy                           0.12     10000\n",
            "   macro avg       0.34      0.12      0.06     10000\n",
            "weighted avg       0.34      0.12      0.06     10000\n",
            "\n"
          ],
          "name": "stdout"
        },
        {
          "output_type": "stream",
          "text": [
            "/usr/local/lib/python3.6/dist-packages/sklearn/metrics/_classification.py:1272: UndefinedMetricWarning: Precision and F-score are ill-defined and being set to 0.0 in labels with no predicted samples. Use `zero_division` parameter to control this behavior.\n",
            "  _warn_prf(average, modifier, msg_start, len(result))\n"
          ],
          "name": "stderr"
        }
      ]
    },
    {
      "cell_type": "code",
      "metadata": {
        "id": "LnmStayAnvNT",
        "outputId": "4a519006-6777-418b-d430-fe9f6e7f7be6",
        "colab": {
          "base_uri": "https://localhost:8080/",
          "height": 390
        }
      },
      "source": [
        "accuracy2 = svm2.score(test_final_out_2, test_out)\n",
        "print(\"Accuracy of SVM2 - \", accuracy2)\n",
        "print(\"Classification Report for SVM2\")\n",
        "cls_rpt2 = classification_report(test_out, svm_test_pred_2) \n",
        "print(cls_rpt2)"
      ],
      "execution_count": 54,
      "outputs": [
        {
          "output_type": "stream",
          "text": [
            "Accuracy of SVM2 -  0.2031\n",
            "Classification Report for SVM2\n",
            "              precision    recall  f1-score   support\n",
            "\n",
            "           0       0.54      0.23      0.32      1000\n",
            "           1       0.39      0.45      0.42      1000\n",
            "           2       0.13      0.92      0.22      1000\n",
            "           3       0.00      0.00      0.00      1000\n",
            "           4       0.54      0.06      0.11      1000\n",
            "           5       0.00      0.00      0.00      1000\n",
            "           6       0.67      0.00      0.00      1000\n",
            "           7       0.00      0.00      0.00      1000\n",
            "           8       0.86      0.02      0.04      1000\n",
            "           9       0.37      0.35      0.36      1000\n",
            "\n",
            "    accuracy                           0.20     10000\n",
            "   macro avg       0.35      0.20      0.15     10000\n",
            "weighted avg       0.35      0.20      0.15     10000\n",
            "\n"
          ],
          "name": "stdout"
        },
        {
          "output_type": "stream",
          "text": [
            "/usr/local/lib/python3.6/dist-packages/sklearn/metrics/_classification.py:1272: UndefinedMetricWarning: Precision and F-score are ill-defined and being set to 0.0 in labels with no predicted samples. Use `zero_division` parameter to control this behavior.\n",
            "  _warn_prf(average, modifier, msg_start, len(result))\n"
          ],
          "name": "stderr"
        }
      ]
    }
  ]
}